{
 "cells": [
  {
   "cell_type": "markdown",
   "metadata": {},
   "source": [
    "Tokenization..."
   ]
  },
  {
   "cell_type": "code",
   "execution_count": 4,
   "metadata": {},
   "outputs": [
    {
     "data": {
      "text/plain": [
       "353"
      ]
     },
     "execution_count": 4,
     "metadata": {},
     "output_type": "execute_result"
    }
   ],
   "source": [
    "ord(\"š\")"
   ]
  },
  {
   "cell_type": "code",
   "execution_count": 1,
   "metadata": {},
   "outputs": [
    {
     "name": "stdout",
     "output_type": "stream",
     "text": [
      "----\n",
      "Adding and/or deleting authors at revision stage are generally not permitted, but in some cases it may be warranted. Reasons for these changes in authorship should be explained. Approval of the change during revision is at the discretion of the Editor-in-Chief. Please note that journals may have individual policies on adding and/or deleting authors during revision stage.\n",
      "length: 373\n",
      "----\n",
      "[65, 100, 100, 105, 110, 103, 32, 97, 110, 100, 47, 111, 114, 32, 100, 101, 108, 101, 116, 105, 110, 103, 32, 97, 117, 116, 104, 111, 114, 115, 32, 97, 116, 32, 114, 101, 118, 105, 115, 105, 111, 110, 32, 115, 116, 97, 103, 101, 32, 97, 114, 101, 32, 103, 101, 110, 101, 114, 97, 108, 108, 121, 32, 110, 111, 116, 32, 112, 101, 114, 109, 105, 116, 116, 101, 100, 44, 32, 98, 117, 116, 32, 105, 110, 32, 115, 111, 109, 101, 32, 99, 97, 115, 101, 115, 32, 105, 116, 32, 109, 97, 121, 32, 98, 101, 32, 119, 97, 114, 114, 97, 110, 116, 101, 100, 46, 32, 82, 101, 97, 115, 111, 110, 115, 32, 102, 111, 114, 32, 116, 104, 101, 115, 101, 32, 99, 104, 97, 110, 103, 101, 115, 32, 105, 110, 32, 97, 117, 116, 104, 111, 114, 115, 104, 105, 112, 32, 115, 104, 111, 117, 108, 100, 32, 98, 101, 32, 101, 120, 112, 108, 97, 105, 110, 101, 100, 46, 32, 65, 112, 112, 114, 111, 118, 97, 108, 32, 111, 102, 32, 116, 104, 101, 32, 99, 104, 97, 110, 103, 101, 32, 100, 117, 114, 105, 110, 103, 32, 114, 101, 118, 105, 115, 105, 111, 110, 32, 105, 115, 32, 97, 116, 32, 116, 104, 101, 32, 100, 105, 115, 99, 114, 101, 116, 105, 111, 110, 32, 111, 102, 32, 116, 104, 101, 32, 69, 100, 105, 116, 111, 114, 45, 105, 110, 45, 67, 104, 105, 101, 102, 46, 32, 80, 108, 101, 97, 115, 101, 32, 110, 111, 116, 101, 32, 116, 104, 97, 116, 32, 106, 111, 117, 114, 110, 97, 108, 115, 32, 109, 97, 121, 32, 104, 97, 118, 101, 32, 105, 110, 100, 105, 118, 105, 100, 117, 97, 108, 32, 112, 111, 108, 105, 99, 105, 101, 115, 32, 111, 110, 32, 97, 100, 100, 105, 110, 103, 32, 97, 110, 100, 47, 111, 114, 32, 100, 101, 108, 101, 116, 105, 110, 103, 32, 97, 117, 116, 104, 111, 114, 115, 32, 100, 117, 114, 105, 110, 103, 32, 114, 101, 118, 105, 115, 105, 111, 110, 32, 115, 116, 97, 103, 101, 46]\n",
      "length: 373\n"
     ]
    }
   ],
   "source": [
    "text = \"Adding and/or deleting authors at revision stage are generally not permitted, but in some cases it may be warranted. Reasons for these changes in authorship should be explained. Approval of the change during revision is at the discretion of the Editor-in-Chief. Please note that journals may have individual policies on adding and/or deleting authors during revision stage.\"\n",
    "tokens = text.encode(\"utf-8\")\n",
    "tokens = list(map(int, tokens))  # map bytes to ints 0 - 255\n",
    "print(\"----\")\n",
    "print(text)\n",
    "print(f\"length: {len(text)}\")\n",
    "print(\"----\")\n",
    "print(tokens)\n",
    "print(f\"length: {len(tokens)}\")"
   ]
  },
  {
   "cell_type": "code",
   "execution_count": 15,
   "metadata": {},
   "outputs": [],
   "source": [
    "def get_stats(tokens):\n",
    "    counter = {}\n",
    "    for i in range(0, len(tokens) - 1):\n",
    "        pair = (tokens[i], tokens[i + 1])\n",
    "        counter[pair] = counter.get(pair, 0) + 1\n",
    "    return counter\n",
    "\n",
    "\n",
    "def get_most_common_pair(tokens):\n",
    "    counter = get_stats(tokens)\n",
    "    return sorted(counter, key=counter.get, reverse=True)[0]"
   ]
  },
  {
   "cell_type": "code",
   "execution_count": 16,
   "metadata": {},
   "outputs": [
    {
     "data": {
      "text/plain": [
       "(101, 32)"
      ]
     },
     "execution_count": 16,
     "metadata": {},
     "output_type": "execute_result"
    }
   ],
   "source": [
    "get_most_common_pair(tokens)"
   ]
  },
  {
   "cell_type": "code",
   "execution_count": 17,
   "metadata": {},
   "outputs": [
    {
     "data": {
      "text/plain": [
       "('e', ' ')"
      ]
     },
     "execution_count": 17,
     "metadata": {},
     "output_type": "execute_result"
    }
   ],
   "source": [
    "chr(101), chr(32)"
   ]
  },
  {
   "cell_type": "code",
   "execution_count": 37,
   "metadata": {},
   "outputs": [],
   "source": [
    "def merge(tokens, pair_to_replace, idx):\n",
    "    new_tokens = []\n",
    "    i = 0\n",
    "    while i < len(tokens) - 1:\n",
    "        pair = (tokens[i], tokens[i + 1])\n",
    "        if pair != pair_to_replace:\n",
    "            new_tokens.append(tokens[i])\n",
    "            if i == len(tokens) - 2:\n",
    "                new_tokens.append(tokens[i + 1])\n",
    "                break\n",
    "            i += 1\n",
    "        else:\n",
    "            new_tokens.append(idx)\n",
    "            i += 2\n",
    "    return new_tokens"
   ]
  },
  {
   "cell_type": "code",
   "execution_count": 38,
   "metadata": {},
   "outputs": [
    {
     "name": "stdout",
     "output_type": "stream",
     "text": [
      "[5, 6, 88, 9, 1]\n"
     ]
    }
   ],
   "source": [
    "print(merge([5, 6, 6, 7, 9, 1], (6, 7), 88))"
   ]
  }
 ],
 "metadata": {
  "kernelspec": {
   "display_name": "Python 3",
   "language": "python",
   "name": "python3"
  },
  "language_info": {
   "codemirror_mode": {
    "name": "ipython",
    "version": 3
   },
   "file_extension": ".py",
   "mimetype": "text/x-python",
   "name": "python",
   "nbconvert_exporter": "python",
   "pygments_lexer": "ipython3",
   "version": "3.11.10"
  }
 },
 "nbformat": 4,
 "nbformat_minor": 2
}
